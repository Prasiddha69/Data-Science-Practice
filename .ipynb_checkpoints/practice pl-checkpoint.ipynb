{
 "cells": [
  {
   "cell_type": "code",
   "execution_count": 1,
   "id": "9c4de6dc",
   "metadata": {},
   "outputs": [],
   "source": [
    "import numpy as np"
   ]
  },
  {
   "cell_type": "code",
   "execution_count": 2,
   "id": "1eb220cc",
   "metadata": {},
   "outputs": [],
   "source": [
    "import pandas as pd"
   ]
  },
  {
   "cell_type": "code",
   "execution_count": 3,
   "id": "8a5f477f",
   "metadata": {},
   "outputs": [],
   "source": [
    "df = pd.read_csv('results.csv')"
   ]
  },
  {
   "cell_type": "code",
   "execution_count": 4,
   "id": "48830f15",
   "metadata": {},
   "outputs": [
    {
     "data": {
      "text/plain": [
       "<bound method NDFrame.head of               home_team         away_team  home_goals  away_goals result  \\\n",
       "0      Sheffield United         Liverpool         1.0         1.0      D   \n",
       "1               Arsenal       Aston Villa         1.0         1.0      D   \n",
       "2               Everton           Watford         2.0         1.0      H   \n",
       "3      Newcastle United    Wigan Athletic         2.0         1.0      H   \n",
       "4            Portsmouth  Blackburn Rovers         3.0         0.0      H   \n",
       "...                 ...               ...         ...         ...    ...   \n",
       "4555   Newcastle United           Chelsea         3.0         0.0      H   \n",
       "4556        Southampton   Manchester City         0.0         1.0      A   \n",
       "4557       Swansea City        Stoke City         1.0         2.0      A   \n",
       "4558  Tottenham Hotspur    Leicester City         5.0         4.0      H   \n",
       "4559    West Ham United           Everton         3.0         1.0      H   \n",
       "\n",
       "         season  \n",
       "0     2006-2007  \n",
       "1     2006-2007  \n",
       "2     2006-2007  \n",
       "3     2006-2007  \n",
       "4     2006-2007  \n",
       "...         ...  \n",
       "4555  2017-2018  \n",
       "4556  2017-2018  \n",
       "4557  2017-2018  \n",
       "4558  2017-2018  \n",
       "4559  2017-2018  \n",
       "\n",
       "[4560 rows x 6 columns]>"
      ]
     },
     "execution_count": 4,
     "metadata": {},
     "output_type": "execute_result"
    }
   ],
   "source": [
    "df.head\n"
   ]
  },
  {
   "cell_type": "code",
   "execution_count": null,
   "id": "a9113915",
   "metadata": {},
   "outputs": [],
   "source": []
  }
 ],
 "metadata": {
  "kernelspec": {
   "display_name": "Python 3 (ipykernel)",
   "language": "python",
   "name": "python3"
  },
  "language_info": {
   "codemirror_mode": {
    "name": "ipython",
    "version": 3
   },
   "file_extension": ".py",
   "mimetype": "text/x-python",
   "name": "python",
   "nbconvert_exporter": "python",
   "pygments_lexer": "ipython3",
   "version": "3.11.5"
  }
 },
 "nbformat": 4,
 "nbformat_minor": 5
}
