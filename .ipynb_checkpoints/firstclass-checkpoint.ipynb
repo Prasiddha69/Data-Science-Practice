{
 "cells": [
  {
   "cell_type": "markdown",
   "id": "c96a491f",
   "metadata": {},
   "source": [
    "#Data Science "
   ]
  },
  {
   "cell_type": "code",
   "execution_count": null,
   "id": "ce4b9a25",
   "metadata": {},
   "outputs": [],
   "source": [
    "\"Hi bro\""
   ]
  }
 ],
 "metadata": {
  "kernelspec": {
   "display_name": "Python 3 (ipykernel)",
   "language": "python",
   "name": "python3"
  },
  "language_info": {
   "codemirror_mode": {
    "name": "ipython",
    "version": 3
   },
   "file_extension": ".py",
   "mimetype": "text/x-python",
   "name": "python",
   "nbconvert_exporter": "python",
   "pygments_lexer": "ipython3",
   "version": "3.11.5"
  }
 },
 "nbformat": 4,
 "nbformat_minor": 5
}
