{
 "cells": [
  {
   "cell_type": "code",
   "execution_count": 20,
   "id": "c7beebee",
   "metadata": {},
   "outputs": [],
   "source": [
    "import numpy as np"
   ]
  },
  {
   "cell_type": "code",
   "execution_count": 21,
   "id": "d613295e",
   "metadata": {},
   "outputs": [],
   "source": [
    "a = np.arange(6)"
   ]
  },
  {
   "cell_type": "code",
   "execution_count": 22,
   "id": "1a1f8cd6",
   "metadata": {},
   "outputs": [
    {
     "data": {
      "text/plain": [
       "array([0, 1, 2, 3, 4, 5])"
      ]
     },
     "execution_count": 22,
     "metadata": {},
     "output_type": "execute_result"
    }
   ],
   "source": [
    "a"
   ]
  },
  {
   "cell_type": "code",
   "execution_count": 23,
   "id": "f8628bb9",
   "metadata": {},
   "outputs": [
    {
     "data": {
      "text/plain": [
       "2.5"
      ]
     },
     "execution_count": 23,
     "metadata": {},
     "output_type": "execute_result"
    }
   ],
   "source": [
    "np.sum(a)/np.size(a)"
   ]
  },
  {
   "cell_type": "code",
   "execution_count": 24,
   "id": "5ec83522",
   "metadata": {},
   "outputs": [],
   "source": [
    "array_2d = np.array([[1, 2], [3, 4], [5, 6], [7, 8], [9, 10]])"
   ]
  },
  {
   "cell_type": "code",
   "execution_count": 25,
   "id": "1afbccfb",
   "metadata": {},
   "outputs": [
    {
     "data": {
      "text/plain": [
       "array([[ 1,  2],\n",
       "       [ 3,  4],\n",
       "       [ 5,  6],\n",
       "       [ 7,  8],\n",
       "       [ 9, 10]])"
      ]
     },
     "execution_count": 25,
     "metadata": {},
     "output_type": "execute_result"
    }
   ],
   "source": [
    "array_2d"
   ]
  },
  {
   "cell_type": "code",
   "execution_count": 26,
   "id": "7c6c9fae",
   "metadata": {},
   "outputs": [
    {
     "data": {
      "text/plain": [
       "(5, 2)"
      ]
     },
     "execution_count": 26,
     "metadata": {},
     "output_type": "execute_result"
    }
   ],
   "source": [
    "np.shape(array_2d)"
   ]
  },
  {
   "cell_type": "code",
   "execution_count": 27,
   "id": "7b4fee1a",
   "metadata": {},
   "outputs": [
    {
     "data": {
      "text/plain": [
       "10"
      ]
     },
     "execution_count": 27,
     "metadata": {},
     "output_type": "execute_result"
    }
   ],
   "source": [
    "np.size(array_2d)"
   ]
  },
  {
   "cell_type": "code",
   "execution_count": 28,
   "id": "4ee9a76b",
   "metadata": {},
   "outputs": [
    {
     "data": {
      "text/plain": [
       "2"
      ]
     },
     "execution_count": 28,
     "metadata": {},
     "output_type": "execute_result"
    }
   ],
   "source": [
    "np.ndim(array_2d)"
   ]
  },
  {
   "cell_type": "code",
   "execution_count": 33,
   "id": "ad4614d0",
   "metadata": {},
   "outputs": [
    {
     "ename": "AttributeError",
     "evalue": "module 'numpy' has no attribute 'itemsize'",
     "output_type": "error",
     "traceback": [
      "\u001b[1;31m---------------------------------------------------------------------------\u001b[0m",
      "\u001b[1;31mAttributeError\u001b[0m                            Traceback (most recent call last)",
      "Cell \u001b[1;32mIn[33], line 1\u001b[0m\n\u001b[1;32m----> 1\u001b[0m np\u001b[38;5;241m.\u001b[39mitemsize(array_2d)\n",
      "File \u001b[1;32m~\\anaconda3\\Lib\\site-packages\\numpy\\__init__.py:320\u001b[0m, in \u001b[0;36m__getattr__\u001b[1;34m(attr)\u001b[0m\n\u001b[0;32m    317\u001b[0m     \u001b[38;5;28;01mfrom\u001b[39;00m \u001b[38;5;21;01m.\u001b[39;00m\u001b[38;5;21;01mtesting\u001b[39;00m \u001b[38;5;28;01mimport\u001b[39;00m Tester\n\u001b[0;32m    318\u001b[0m     \u001b[38;5;28;01mreturn\u001b[39;00m Tester\n\u001b[1;32m--> 320\u001b[0m \u001b[38;5;28;01mraise\u001b[39;00m \u001b[38;5;167;01mAttributeError\u001b[39;00m(\u001b[38;5;124m\"\u001b[39m\u001b[38;5;124mmodule \u001b[39m\u001b[38;5;132;01m{!r}\u001b[39;00m\u001b[38;5;124m has no attribute \u001b[39m\u001b[38;5;124m\"\u001b[39m\n\u001b[0;32m    321\u001b[0m                      \u001b[38;5;124m\"\u001b[39m\u001b[38;5;132;01m{!r}\u001b[39;00m\u001b[38;5;124m\"\u001b[39m\u001b[38;5;241m.\u001b[39mformat(\u001b[38;5;18m__name__\u001b[39m, attr))\n",
      "\u001b[1;31mAttributeError\u001b[0m: module 'numpy' has no attribute 'itemsize'"
     ]
    }
   ],
   "source": [
    "np.itemsize(array_2d)"
   ]
  },
  {
   "cell_type": "code",
   "execution_count": null,
   "id": "23cca90b",
   "metadata": {},
   "outputs": [],
   "source": [
    "array_2d"
   ]
  },
  {
   "cell_type": "code",
   "execution_count": null,
   "id": "417dd349",
   "metadata": {},
   "outputs": [],
   "source": [
    "array_2d[::2]"
   ]
  },
  {
   "cell_type": "code",
   "execution_count": null,
   "id": "f2b15b70",
   "metadata": {},
   "outputs": [],
   "source": [
    "array_2d[1, 1]"
   ]
  },
  {
   "cell_type": "code",
   "execution_count": null,
   "id": "52b8a711",
   "metadata": {},
   "outputs": [],
   "source": [
    "array_multiply = array_2d * 2"
   ]
  },
  {
   "cell_type": "code",
   "execution_count": null,
   "id": "47be7ed0",
   "metadata": {},
   "outputs": [],
   "source": [
    "array_multiply"
   ]
  },
  {
   "cell_type": "code",
   "execution_count": 31,
   "id": "7ae6d504",
   "metadata": {},
   "outputs": [
    {
     "data": {
      "text/plain": [
       "array([[ 3,  4],\n",
       "       [ 5,  6],\n",
       "       [ 7,  8],\n",
       "       [ 9, 10],\n",
       "       [11, 12]])"
      ]
     },
     "execution_count": 31,
     "metadata": {},
     "output_type": "execute_result"
    }
   ],
   "source": [
    "array_add = array_2d + 2\n",
    "array_add"
   ]
  },
  {
   "cell_type": "code",
   "execution_count": 32,
   "id": "a5653e7a",
   "metadata": {},
   "outputs": [
    {
     "data": {
      "text/plain": [
       "array([[ 3,  4],\n",
       "       [ 5,  6],\n",
       "       [ 7,  8],\n",
       "       [ 9, 10],\n",
       "       [11, 12]])"
      ]
     },
     "execution_count": 32,
     "metadata": {},
     "output_type": "execute_result"
    }
   ],
   "source": [
    "array_add"
   ]
  },
  {
   "cell_type": "code",
   "execution_count": 13,
   "id": "2c118413",
   "metadata": {},
   "outputs": [
    {
     "data": {
      "text/plain": [
       "array([[ 1,  2],\n",
       "       [ 3,  4],\n",
       "       [ 5,  6],\n",
       "       [ 7,  8],\n",
       "       [ 9, 10]])"
      ]
     },
     "execution_count": 13,
     "metadata": {},
     "output_type": "execute_result"
    }
   ],
   "source": [
    "array_2d"
   ]
  },
  {
   "cell_type": "code",
   "execution_count": 34,
   "id": "6e06b827",
   "metadata": {},
   "outputs": [
    {
     "data": {
      "text/plain": [
       "array([[ 4,  6],\n",
       "       [ 8, 10],\n",
       "       [12, 14],\n",
       "       [16, 18],\n",
       "       [20, 22]])"
      ]
     },
     "execution_count": 34,
     "metadata": {},
     "output_type": "execute_result"
    }
   ],
   "source": [
    "add_array = array_add + array_2d\n",
    "add_array"
   ]
  },
  {
   "cell_type": "code",
   "execution_count": 35,
   "id": "da953c0c",
   "metadata": {},
   "outputs": [
    {
     "data": {
      "text/plain": [
       "22"
      ]
     },
     "execution_count": 35,
     "metadata": {},
     "output_type": "execute_result"
    }
   ],
   "source": [
    "np.max(add_array)"
   ]
  },
  {
   "cell_type": "code",
   "execution_count": 36,
   "id": "09d026b1",
   "metadata": {},
   "outputs": [
    {
     "data": {
      "text/plain": [
       "4"
      ]
     },
     "execution_count": 36,
     "metadata": {},
     "output_type": "execute_result"
    }
   ],
   "source": [
    "np.min(add_array)"
   ]
  },
  {
   "cell_type": "code",
   "execution_count": 37,
   "id": "742da28b",
   "metadata": {},
   "outputs": [
    {
     "data": {
      "text/plain": [
       "10"
      ]
     },
     "execution_count": 37,
     "metadata": {},
     "output_type": "execute_result"
    }
   ],
   "source": [
    "np.size(add_array)"
   ]
  },
  {
   "cell_type": "code",
   "execution_count": 38,
   "id": "2cce9c8f",
   "metadata": {},
   "outputs": [
    {
     "data": {
      "text/plain": [
       "'Mean: 10.0'"
      ]
     },
     "execution_count": 38,
     "metadata": {},
     "output_type": "execute_result"
    }
   ],
   "source": [
    "mean = np.sum(add_array)/np.mean(add_array)\n",
    "f'Mean: {mean}'"
   ]
  },
  {
   "cell_type": "code",
   "execution_count": 39,
   "id": "e1f3ebe3",
   "metadata": {},
   "outputs": [],
   "source": [
    "mix_array = np.array([4, 6, 8])"
   ]
  },
  {
   "cell_type": "code",
   "execution_count": 40,
   "id": "4f7eb3f7",
   "metadata": {},
   "outputs": [
    {
     "data": {
      "text/plain": [
       "array([4, 6, 8])"
      ]
     },
     "execution_count": 40,
     "metadata": {},
     "output_type": "execute_result"
    }
   ],
   "source": [
    "mix_array"
   ]
  },
  {
   "cell_type": "code",
   "execution_count": 42,
   "id": "bbd0eee1",
   "metadata": {},
   "outputs": [
    {
     "ename": "TypeError",
     "evalue": "Cannot construct a dtype from an array",
     "output_type": "error",
     "traceback": [
      "\u001b[1;31m---------------------------------------------------------------------------\u001b[0m",
      "\u001b[1;31mTypeError\u001b[0m                                 Traceback (most recent call last)",
      "Cell \u001b[1;32mIn[42], line 1\u001b[0m\n\u001b[1;32m----> 1\u001b[0m np\u001b[38;5;241m.\u001b[39mdtype(mix_array)\n",
      "\u001b[1;31mTypeError\u001b[0m: Cannot construct a dtype from an array"
     ]
    }
   ],
   "source": [
    "np.dtype(mix_array)"
   ]
  },
  {
   "cell_type": "code",
   "execution_count": 43,
   "id": "462bd41f",
   "metadata": {},
   "outputs": [],
   "source": [
    "even_number = np.arange(0, 10, 2)"
   ]
  },
  {
   "cell_type": "code",
   "execution_count": 44,
   "id": "99a85eb5",
   "metadata": {},
   "outputs": [
    {
     "data": {
      "text/plain": [
       "array([0, 2, 4, 6, 8])"
      ]
     },
     "execution_count": 44,
     "metadata": {},
     "output_type": "execute_result"
    }
   ],
   "source": [
    "even_number"
   ]
  },
  {
   "cell_type": "code",
   "execution_count": 45,
   "id": "77b2b102",
   "metadata": {},
   "outputs": [
    {
     "data": {
      "text/plain": [
       "array([[0, 0, 0, 0],\n",
       "       [0, 0, 0, 0],\n",
       "       [0, 0, 0, 0]])"
      ]
     },
     "execution_count": 45,
     "metadata": {},
     "output_type": "execute_result"
    }
   ],
   "source": [
    "zero_array = np.zeros((3, 4), dtype='int')\n",
    "zero_array"
   ]
  },
  {
   "cell_type": "code",
   "execution_count": 46,
   "id": "b34f241c",
   "metadata": {},
   "outputs": [
    {
     "data": {
      "text/plain": [
       "array([ 4, 10, 18])"
      ]
     },
     "execution_count": 46,
     "metadata": {},
     "output_type": "execute_result"
    }
   ],
   "source": [
    "a = np.array([1, 2, 3])\n",
    "b = np.array([4, 5, 6])\n",
    "a * b"
   ]
  },
  {
   "cell_type": "code",
   "execution_count": 47,
   "id": "99fbb834",
   "metadata": {},
   "outputs": [],
   "source": [
    "random_array = np.random.randint(1, 100, 7)\n",
    "sqrt_array = np.sqrt(random_array)"
   ]
  },
  {
   "cell_type": "code",
   "execution_count": 48,
   "id": "a5cb2246",
   "metadata": {},
   "outputs": [
    {
     "data": {
      "text/plain": [
       "array([65, 16, 76, 65, 96, 62, 40])"
      ]
     },
     "execution_count": 48,
     "metadata": {},
     "output_type": "execute_result"
    }
   ],
   "source": [
    "random_array"
   ]
  },
  {
   "cell_type": "code",
   "execution_count": 49,
   "id": "ba44da9b",
   "metadata": {},
   "outputs": [
    {
     "data": {
      "text/plain": [
       "array([8.06225775, 4.        , 8.71779789, 8.06225775, 9.79795897,\n",
       "       7.87400787, 6.32455532])"
      ]
     },
     "execution_count": 49,
     "metadata": {},
     "output_type": "execute_result"
    }
   ],
   "source": [
    "sqrt_array"
   ]
  },
  {
   "cell_type": "code",
   "execution_count": 50,
   "id": "980d06c3",
   "metadata": {},
   "outputs": [],
   "source": [
    "arr = np.array([10, 20, 30, 40, 50])"
   ]
  },
  {
   "cell_type": "code",
   "execution_count": 51,
   "id": "d5c24001",
   "metadata": {},
   "outputs": [
    {
     "data": {
      "text/plain": [
       "array([20, 30, 40])"
      ]
     },
     "execution_count": 51,
     "metadata": {},
     "output_type": "execute_result"
    }
   ],
   "source": [
    "arr[1:4]"
   ]
  },
  {
   "cell_type": "code",
   "execution_count": 52,
   "id": "725966f4",
   "metadata": {},
   "outputs": [
    {
     "data": {
      "text/plain": [
       "array([[20, 46, 37,  3, 19],\n",
       "       [ 5, 26, 39, 32,  5],\n",
       "       [25, 33, 38, 23, 31],\n",
       "       [13, 31, 33, 35, 34]])"
      ]
     },
     "execution_count": 52,
     "metadata": {},
     "output_type": "execute_result"
    }
   ],
   "source": [
    "array1 = np.random.randint(1, 50, (4, 5))\n",
    "array1"
   ]
  },
  {
   "cell_type": "code",
   "execution_count": 53,
   "id": "1793c51c",
   "metadata": {},
   "outputs": [
    {
     "data": {
      "text/plain": [
       "array([46, 26, 33, 31])"
      ]
     },
     "execution_count": 53,
     "metadata": {},
     "output_type": "execute_result"
    }
   ],
   "source": [
    "array1[:, 1]"
   ]
  },
  {
   "cell_type": "code",
   "execution_count": 54,
   "id": "5ed517be",
   "metadata": {},
   "outputs": [
    {
     "data": {
      "text/plain": [
       "array([[ 8,  7, 14,  6,  5, 15, 12,  1]])"
      ]
     },
     "execution_count": 54,
     "metadata": {},
     "output_type": "execute_result"
    }
   ],
   "source": [
    "element_8 = np.random.randint(1, 20, 8)\n",
    "ele_8_array = np.array([element_8])\n",
    "ele_8_array"
   ]
  },
  {
   "cell_type": "code",
   "execution_count": 55,
   "id": "155ab407",
   "metadata": {},
   "outputs": [
    {
     "data": {
      "text/plain": [
       "'Sum: 68'"
      ]
     },
     "execution_count": 55,
     "metadata": {},
     "output_type": "execute_result"
    }
   ],
   "source": [
    "f'Sum: {np.sum(ele_8_array)}'"
   ]
  },
  {
   "cell_type": "code",
   "execution_count": 56,
   "id": "d2e9b5c7",
   "metadata": {},
   "outputs": [
    {
     "data": {
      "text/plain": [
       "'Average: 8.5'"
      ]
     },
     "execution_count": 56,
     "metadata": {},
     "output_type": "execute_result"
    }
   ],
   "source": [
    "f'Average: {np.mean(ele_8_array)}'"
   ]
  }
 ],
 "metadata": {
  "kernelspec": {
   "display_name": "Python 3 (ipykernel)",
   "language": "python",
   "name": "python3"
  },
  "language_info": {
   "codemirror_mode": {
    "name": "ipython",
    "version": 3
   },
   "file_extension": ".py",
   "mimetype": "text/x-python",
   "name": "python",
   "nbconvert_exporter": "python",
   "pygments_lexer": "ipython3",
   "version": "3.11.5"
  }
 },
 "nbformat": 4,
 "nbformat_minor": 5
}
