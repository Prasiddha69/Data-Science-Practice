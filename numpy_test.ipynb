{
 "cells": [
  {
   "cell_type": "code",
   "execution_count": 1,
   "id": "2e004776",
   "metadata": {},
   "outputs": [],
   "source": [
    "import numpy as np"
   ]
  },
  {
   "cell_type": "code",
   "execution_count": 2,
   "id": "aa0a35bf",
   "metadata": {},
   "outputs": [],
   "source": [
    "test_array = np.array([1,2,3])"
   ]
  },
  {
   "cell_type": "code",
   "execution_count": 3,
   "id": "66c034c1",
   "metadata": {},
   "outputs": [
    {
     "data": {
      "text/plain": [
       "array([1, 2, 3])"
      ]
     },
     "execution_count": 3,
     "metadata": {},
     "output_type": "execute_result"
    }
   ],
   "source": [
    "test_array"
   ]
  },
  {
   "cell_type": "code",
   "execution_count": 4,
   "id": "d4dd0df2",
   "metadata": {},
   "outputs": [],
   "source": [
    "salary = np.array([[25000, 3500], [50000, 8500], [820000, 50000]])"
   ]
  },
  {
   "cell_type": "code",
   "execution_count": 5,
   "id": "10e4293f",
   "metadata": {},
   "outputs": [
    {
     "data": {
      "text/plain": [
       "array([[ 25000,   3500],\n",
       "       [ 50000,   8500],\n",
       "       [820000,  50000]])"
      ]
     },
     "execution_count": 5,
     "metadata": {},
     "output_type": "execute_result"
    }
   ],
   "source": [
    "salary"
   ]
  },
  {
   "cell_type": "code",
   "execution_count": 6,
   "id": "c2d257d5",
   "metadata": {},
   "outputs": [
    {
     "data": {
      "text/plain": [
       "array([[25000,  3500],\n",
       "       [50000,  8500]])"
      ]
     },
     "execution_count": 6,
     "metadata": {},
     "output_type": "execute_result"
    }
   ],
   "source": [
    "salary[[0, 1]]"
   ]
  },
  {
   "cell_type": "code",
   "execution_count": 7,
   "id": "d9b6dc74",
   "metadata": {},
   "outputs": [
    {
     "ename": "IndexError",
     "evalue": "boolean index did not match indexed array along dimension 0; dimension is 3 but corresponding boolean dimension is 1",
     "output_type": "error",
     "traceback": [
      "\u001b[1;31m---------------------------------------------------------------------------\u001b[0m",
      "\u001b[1;31mIndexError\u001b[0m                                Traceback (most recent call last)",
      "Cell \u001b[1;32mIn[7], line 1\u001b[0m\n\u001b[1;32m----> 1\u001b[0m salary[[\u001b[38;5;28;01mTrue\u001b[39;00m]]\n",
      "\u001b[1;31mIndexError\u001b[0m: boolean index did not match indexed array along dimension 0; dimension is 3 but corresponding boolean dimension is 1"
     ]
    }
   ],
   "source": [
    "salary[[True]]"
   ]
  },
  {
   "cell_type": "code",
   "execution_count": 36,
   "id": "c717cede",
   "metadata": {},
   "outputs": [
    {
     "data": {
      "text/plain": [
       "array([[ True, False],\n",
       "       [ True, False],\n",
       "       [ True,  True]])"
      ]
     },
     "execution_count": 36,
     "metadata": {},
     "output_type": "execute_result"
    }
   ],
   "source": [
    "salary > 10000"
   ]
  },
  {
   "cell_type": "code",
   "execution_count": 8,
   "id": "d02b0d59",
   "metadata": {},
   "outputs": [
    {
     "ename": "IndexError",
     "evalue": "too many indices for array: array is 2-dimensional, but 3 were indexed",
     "output_type": "error",
     "traceback": [
      "\u001b[1;31m---------------------------------------------------------------------------\u001b[0m",
      "\u001b[1;31mIndexError\u001b[0m                                Traceback (most recent call last)",
      "Cell \u001b[1;32mIn[8], line 1\u001b[0m\n\u001b[1;32m----> 1\u001b[0m salary[[\u001b[38;5;28;01mTrue\u001b[39;00m, \u001b[38;5;28;01mFalse\u001b[39;00m], [\u001b[38;5;28;01mTrue\u001b[39;00m, \u001b[38;5;28;01mFalse\u001b[39;00m], [\u001b[38;5;28;01mTrue\u001b[39;00m, \u001b[38;5;28;01mTrue\u001b[39;00m]]\n",
      "\u001b[1;31mIndexError\u001b[0m: too many indices for array: array is 2-dimensional, but 3 were indexed"
     ]
    }
   ],
   "source": [
    "salary[[True, False], [True, False], [True, True]]"
   ]
  },
  {
   "cell_type": "code",
   "execution_count": 9,
   "id": "eadd038e",
   "metadata": {},
   "outputs": [
    {
     "data": {
      "text/plain": [
       "array([25000,  3500,  8500])"
      ]
     },
     "execution_count": 9,
     "metadata": {},
     "output_type": "execute_result"
    }
   ],
   "source": [
    "salary[salary < 50000]"
   ]
  },
  {
   "cell_type": "code",
   "execution_count": 10,
   "id": "1dafbd1c",
   "metadata": {},
   "outputs": [
    {
     "data": {
      "text/plain": [
       "array([25000, 50000,  8500, 50000])"
      ]
     },
     "execution_count": 10,
     "metadata": {},
     "output_type": "execute_result"
    }
   ],
   "source": [
    "salary[(salary > 5000) & (salary < 60000)]"
   ]
  },
  {
   "cell_type": "code",
   "execution_count": 11,
   "id": "39786fd8",
   "metadata": {},
   "outputs": [
    {
     "data": {
      "text/plain": [
       "array([[ 25000,   3500],\n",
       "       [ 50000,   8500],\n",
       "       [820000,  50000]])"
      ]
     },
     "execution_count": 11,
     "metadata": {},
     "output_type": "execute_result"
    }
   ],
   "source": [
    "salary"
   ]
  },
  {
   "cell_type": "code",
   "execution_count": 12,
   "id": "6114e32d",
   "metadata": {},
   "outputs": [],
   "source": [
    "new_salary = salary + 5000"
   ]
  },
  {
   "cell_type": "code",
   "execution_count": 13,
   "id": "c35eb58a",
   "metadata": {},
   "outputs": [
    {
     "data": {
      "text/plain": [
       "array([[ 30000,   8500],\n",
       "       [ 55000,  13500],\n",
       "       [825000,  55000]])"
      ]
     },
     "execution_count": 13,
     "metadata": {},
     "output_type": "execute_result"
    }
   ],
   "source": [
    "new_salary"
   ]
  },
  {
   "cell_type": "code",
   "execution_count": 14,
   "id": "ba14147e",
   "metadata": {},
   "outputs": [
    {
     "data": {
      "text/plain": [
       "array([[False, False],\n",
       "       [ True, False],\n",
       "       [ True,  True]])"
      ]
     },
     "execution_count": 14,
     "metadata": {},
     "output_type": "execute_result"
    }
   ],
   "source": [
    "new_salary > 50000"
   ]
  },
  {
   "cell_type": "code",
   "execution_count": 15,
   "id": "c80e6143",
   "metadata": {},
   "outputs": [
    {
     "data": {
      "text/plain": [
       "array([ 55000, 825000,  55000])"
      ]
     },
     "execution_count": 15,
     "metadata": {},
     "output_type": "execute_result"
    }
   ],
   "source": [
    "new_salary[new_salary > 50000]"
   ]
  },
  {
   "cell_type": "code",
   "execution_count": 16,
   "id": "9a0101af",
   "metadata": {},
   "outputs": [],
   "source": [
    "student_score = np.array([75, 80, 60, 65, 95, 88, 96])"
   ]
  },
  {
   "cell_type": "code",
   "execution_count": 17,
   "id": "ca793b29",
   "metadata": {},
   "outputs": [
    {
     "data": {
      "text/plain": [
       "array([75, 80, 60, 65, 95, 88, 96])"
      ]
     },
     "execution_count": 17,
     "metadata": {},
     "output_type": "execute_result"
    }
   ],
   "source": [
    "student_score"
   ]
  },
  {
   "cell_type": "code",
   "execution_count": 18,
   "id": "9b6ffb02",
   "metadata": {},
   "outputs": [
    {
     "data": {
      "text/plain": [
       "4"
      ]
     },
     "execution_count": 18,
     "metadata": {},
     "output_type": "execute_result"
    }
   ],
   "source": [
    "len(student_score[student_score >= 80])"
   ]
  },
  {
   "cell_type": "code",
   "execution_count": 19,
   "id": "08d6de35",
   "metadata": {},
   "outputs": [
    {
     "data": {
      "text/plain": [
       "4"
      ]
     },
     "execution_count": 19,
     "metadata": {},
     "output_type": "execute_result"
    }
   ],
   "source": [
    "(student_score >= 80).sum()"
   ]
  },
  {
   "cell_type": "code",
   "execution_count": 20,
   "id": "a323d84f",
   "metadata": {},
   "outputs": [
    {
     "data": {
      "text/plain": [
       "4"
      ]
     },
     "execution_count": 20,
     "metadata": {},
     "output_type": "execute_result"
    }
   ],
   "source": [
    "(student_score <= 80).sum()"
   ]
  },
  {
   "cell_type": "code",
   "execution_count": 21,
   "id": "768a7c4d",
   "metadata": {},
   "outputs": [
    {
     "data": {
      "text/plain": [
       "79.85714285714286"
      ]
     },
     "execution_count": 21,
     "metadata": {},
     "output_type": "execute_result"
    }
   ],
   "source": [
    "np.mean(student_score)\n"
   ]
  },
  {
   "cell_type": "code",
   "execution_count": 22,
   "id": "4fde4731",
   "metadata": {},
   "outputs": [
    {
     "data": {
      "text/plain": [
       "559"
      ]
     },
     "execution_count": 22,
     "metadata": {},
     "output_type": "execute_result"
    }
   ],
   "source": [
    "np.sum(student_score)"
   ]
  },
  {
   "cell_type": "code",
   "execution_count": 23,
   "id": "99f2e4c3",
   "metadata": {},
   "outputs": [
    {
     "data": {
      "text/plain": [
       "array([75, 80, 60, 65, 95, 88, 96])"
      ]
     },
     "execution_count": 23,
     "metadata": {},
     "output_type": "execute_result"
    }
   ],
   "source": [
    "student_score"
   ]
  },
  {
   "cell_type": "code",
   "execution_count": 24,
   "id": "8879adae",
   "metadata": {},
   "outputs": [
    {
     "data": {
      "text/plain": [
       "array([80, 60, 88, 96])"
      ]
     },
     "execution_count": 24,
     "metadata": {},
     "output_type": "execute_result"
    }
   ],
   "source": [
    "student_score[student_score % 2 == 0]"
   ]
  },
  {
   "cell_type": "code",
   "execution_count": 25,
   "id": "8b55c827",
   "metadata": {},
   "outputs": [
    {
     "data": {
      "text/plain": [
       "4"
      ]
     },
     "execution_count": 25,
     "metadata": {},
     "output_type": "execute_result"
    }
   ],
   "source": [
    "(student_score % 2 == 0).sum()"
   ]
  },
  {
   "cell_type": "code",
   "execution_count": 26,
   "id": "c98b55c6",
   "metadata": {},
   "outputs": [
    {
     "data": {
      "text/plain": [
       "79.85714285714286"
      ]
     },
     "execution_count": 26,
     "metadata": {},
     "output_type": "execute_result"
    }
   ],
   "source": [
    "np.mean(student_score)"
   ]
  },
  {
   "cell_type": "code",
   "execution_count": 27,
   "id": "bda4f21a",
   "metadata": {},
   "outputs": [
    {
     "data": {
      "text/plain": [
       "13.06498670305563"
      ]
     },
     "execution_count": 27,
     "metadata": {},
     "output_type": "execute_result"
    }
   ],
   "source": [
    "np.std(student_score)"
   ]
  },
  {
   "cell_type": "code",
   "execution_count": 28,
   "id": "fd8b36c9",
   "metadata": {},
   "outputs": [
    {
     "data": {
      "text/plain": [
       "170.69387755102042"
      ]
     },
     "execution_count": 28,
     "metadata": {},
     "output_type": "execute_result"
    }
   ],
   "source": [
    "np.var(student_score)"
   ]
  },
  {
   "cell_type": "code",
   "execution_count": 29,
   "id": "a13efdc3",
   "metadata": {},
   "outputs": [
    {
     "data": {
      "text/plain": [
       "array([[75, 80, 60, 65, 95, 88, 96]])"
      ]
     },
     "execution_count": 29,
     "metadata": {},
     "output_type": "execute_result"
    }
   ],
   "source": [
    "student_score[True]"
   ]
  },
  {
   "cell_type": "code",
   "execution_count": 31,
   "id": "49fa70c3",
   "metadata": {},
   "outputs": [
    {
     "data": {
      "text/plain": [
       "array([75, 60, 65, 88, 96])"
      ]
     },
     "execution_count": 31,
     "metadata": {},
     "output_type": "execute_result"
    }
   ],
   "source": [
    "student_score[[True, False, True, True, False, True, True]]"
   ]
  },
  {
   "cell_type": "code",
   "execution_count": 33,
   "id": "427cda51",
   "metadata": {},
   "outputs": [
    {
     "data": {
      "text/plain": [
       "8500"
      ]
     },
     "execution_count": 33,
     "metadata": {},
     "output_type": "execute_result"
    }
   ],
   "source": [
    "new_salary[0, 1]"
   ]
  },
  {
   "cell_type": "code",
   "execution_count": 34,
   "id": "dba92591",
   "metadata": {},
   "outputs": [
    {
     "data": {
      "text/plain": [
       "array([[ 30000,   8500],\n",
       "       [ 55000,  13500],\n",
       "       [825000,  55000]])"
      ]
     },
     "execution_count": 34,
     "metadata": {},
     "output_type": "execute_result"
    }
   ],
   "source": [
    "new_salary"
   ]
  },
  {
   "cell_type": "code",
   "execution_count": 35,
   "id": "31f61d6d",
   "metadata": {},
   "outputs": [
    {
     "data": {
      "text/plain": [
       "55000"
      ]
     },
     "execution_count": 35,
     "metadata": {},
     "output_type": "execute_result"
    }
   ],
   "source": [
    "new_salary[1, 0]"
   ]
  },
  {
   "cell_type": "code",
   "execution_count": 38,
   "id": "b6900337",
   "metadata": {},
   "outputs": [
    {
     "data": {
      "text/plain": [
       "array([[ 30000,   8500],\n",
       "       [ 55000,  13500],\n",
       "       [825000,  55000]])"
      ]
     },
     "execution_count": 38,
     "metadata": {},
     "output_type": "execute_result"
    }
   ],
   "source": [
    "new_salary"
   ]
  },
  {
   "cell_type": "code",
   "execution_count": 39,
   "id": "d4c69a77",
   "metadata": {},
   "outputs": [
    {
     "data": {
      "text/plain": [
       "array([[ 36000.,  10200.],\n",
       "       [ 66000.,  16200.],\n",
       "       [990000.,  66000.]])"
      ]
     },
     "execution_count": 39,
     "metadata": {},
     "output_type": "execute_result"
    }
   ],
   "source": [
    "new_salary + (0.2 * new_salary)"
   ]
  },
  {
   "cell_type": "code",
   "execution_count": 40,
   "id": "53767a04",
   "metadata": {},
   "outputs": [
    {
     "data": {
      "text/plain": [
       "987000"
      ]
     },
     "execution_count": 40,
     "metadata": {},
     "output_type": "execute_result"
    }
   ],
   "source": [
    "new_salary.sum()"
   ]
  },
  {
   "cell_type": "code",
   "execution_count": 41,
   "id": "9980b6ce",
   "metadata": {},
   "outputs": [
    {
     "data": {
      "text/plain": [
       "987000"
      ]
     },
     "execution_count": 41,
     "metadata": {},
     "output_type": "execute_result"
    }
   ],
   "source": [
    "np.sum(new_salary)"
   ]
  },
  {
   "cell_type": "code",
   "execution_count": null,
   "id": "baba243b",
   "metadata": {},
   "outputs": [],
   "source": []
  }
 ],
 "metadata": {
  "kernelspec": {
   "display_name": "Python 3 (ipykernel)",
   "language": "python",
   "name": "python3"
  },
  "language_info": {
   "codemirror_mode": {
    "name": "ipython",
    "version": 3
   },
   "file_extension": ".py",
   "mimetype": "text/x-python",
   "name": "python",
   "nbconvert_exporter": "python",
   "pygments_lexer": "ipython3",
   "version": "3.11.5"
  }
 },
 "nbformat": 4,
 "nbformat_minor": 5
}
