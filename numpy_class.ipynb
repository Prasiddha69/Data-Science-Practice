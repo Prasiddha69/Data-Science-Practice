{
 "cells": [
  {
   "cell_type": "code",
   "execution_count": 1,
   "id": "57c2e751",
   "metadata": {},
   "outputs": [],
   "source": [
    "import numpy as np"
   ]
  },
  {
   "cell_type": "markdown",
   "id": "5b9fd38f",
   "metadata": {},
   "source": [
    "### condition bases selection"
   ]
  },
  {
   "cell_type": "code",
   "execution_count": 2,
   "id": "b6114754",
   "metadata": {},
   "outputs": [],
   "source": [
    "salary = np.array([25000, 3500, 50000, 8500, 820000])"
   ]
  },
  {
   "cell_type": "code",
   "execution_count": 3,
   "id": "8e550471",
   "metadata": {},
   "outputs": [
    {
     "data": {
      "text/plain": [
       "array([ 25000,   3500,  50000,   8500, 820000])"
      ]
     },
     "execution_count": 3,
     "metadata": {},
     "output_type": "execute_result"
    }
   ],
   "source": [
    "salary"
   ]
  },
  {
   "cell_type": "code",
   "execution_count": null,
   "id": "487a6625",
   "metadata": {},
   "outputs": [],
   "source": []
  },
  {
   "cell_type": "code",
   "execution_count": 4,
   "id": "f71f6bfe",
   "metadata": {},
   "outputs": [
    {
     "data": {
      "text/plain": [
       "array([25000,  3500,  8500])"
      ]
     },
     "execution_count": 4,
     "metadata": {},
     "output_type": "execute_result"
    }
   ],
   "source": [
    "salary[[0, 1, 3]]"
   ]
  },
  {
   "cell_type": "code",
   "execution_count": 5,
   "id": "c96c62ef",
   "metadata": {},
   "outputs": [
    {
     "data": {
      "text/plain": [
       "array([25000,  3500,  8500])"
      ]
     },
     "execution_count": 5,
     "metadata": {},
     "output_type": "execute_result"
    }
   ],
   "source": [
    "salary[[True, True, False, True, False]]"
   ]
  },
  {
   "cell_type": "markdown",
   "id": "dee26e87",
   "metadata": {},
   "source": [
    "### artihemtic operations on numpy array "
   ]
  },
  {
   "cell_type": "code",
   "execution_count": 6,
   "id": "1647864d",
   "metadata": {},
   "outputs": [],
   "source": [
    "a = np.array([1,2,3,4,5,6])"
   ]
  },
  {
   "cell_type": "code",
   "execution_count": 7,
   "id": "8a2b5b0f",
   "metadata": {},
   "outputs": [
    {
     "data": {
      "text/plain": [
       "array([1, 2, 3, 4, 5, 6])"
      ]
     },
     "execution_count": 7,
     "metadata": {},
     "output_type": "execute_result"
    }
   ],
   "source": [
    "a"
   ]
  },
  {
   "cell_type": "code",
   "execution_count": 8,
   "id": "ac273211",
   "metadata": {},
   "outputs": [
    {
     "data": {
      "text/plain": [
       "array([3, 4, 5, 6, 7, 8])"
      ]
     },
     "execution_count": 8,
     "metadata": {},
     "output_type": "execute_result"
    }
   ],
   "source": [
    "a + 2"
   ]
  },
  {
   "cell_type": "code",
   "execution_count": 9,
   "id": "54a0a817",
   "metadata": {},
   "outputs": [
    {
     "data": {
      "text/plain": [
       "array([ 2,  4,  6,  8, 10, 12])"
      ]
     },
     "execution_count": 9,
     "metadata": {},
     "output_type": "execute_result"
    }
   ],
   "source": [
    "a * 2"
   ]
  },
  {
   "cell_type": "code",
   "execution_count": 10,
   "id": "582c0e21",
   "metadata": {},
   "outputs": [
    {
     "data": {
      "text/plain": [
       "array([0.5, 1. , 1.5, 2. , 2.5, 3. ])"
      ]
     },
     "execution_count": 10,
     "metadata": {},
     "output_type": "execute_result"
    }
   ],
   "source": [
    "a / 2"
   ]
  },
  {
   "cell_type": "code",
   "execution_count": 11,
   "id": "bf1922e8",
   "metadata": {},
   "outputs": [
    {
     "data": {
      "text/plain": [
       "array([ 25000,   3500,  50000,   8500, 820000])"
      ]
     },
     "execution_count": 11,
     "metadata": {},
     "output_type": "execute_result"
    }
   ],
   "source": [
    "salary"
   ]
  },
  {
   "cell_type": "code",
   "execution_count": 12,
   "id": "ab8cd1bc",
   "metadata": {},
   "outputs": [
    {
     "data": {
      "text/plain": [
       "array([ 30000,   8500,  55000,  13500, 825000])"
      ]
     },
     "execution_count": 12,
     "metadata": {},
     "output_type": "execute_result"
    }
   ],
   "source": [
    "salary + 5000"
   ]
  },
  {
   "cell_type": "code",
   "execution_count": 13,
   "id": "79c04c29",
   "metadata": {},
   "outputs": [
    {
     "data": {
      "text/plain": [
       "array([0, 0, 0, 0, 0])"
      ]
     },
     "execution_count": 13,
     "metadata": {},
     "output_type": "execute_result"
    }
   ],
   "source": [
    "salary % 2"
   ]
  },
  {
   "cell_type": "code",
   "execution_count": 14,
   "id": "d28dffaf",
   "metadata": {},
   "outputs": [
    {
     "data": {
      "text/plain": [
       "array([ 25000,   3500,  50000,   8500, 820000])"
      ]
     },
     "execution_count": 14,
     "metadata": {},
     "output_type": "execute_result"
    }
   ],
   "source": [
    "salary "
   ]
  },
  {
   "cell_type": "code",
   "execution_count": 15,
   "id": "96b212aa",
   "metadata": {},
   "outputs": [
    {
     "data": {
      "text/plain": [
       "array([False, False, False, False,  True])"
      ]
     },
     "execution_count": 15,
     "metadata": {},
     "output_type": "execute_result"
    }
   ],
   "source": [
    "salary > 50000"
   ]
  },
  {
   "cell_type": "code",
   "execution_count": 16,
   "id": "6c05dbee",
   "metadata": {},
   "outputs": [
    {
     "data": {
      "text/plain": [
       "array([False, False,  True, False,  True])"
      ]
     },
     "execution_count": 16,
     "metadata": {},
     "output_type": "execute_result"
    }
   ],
   "source": [
    "salary > 30000"
   ]
  },
  {
   "cell_type": "code",
   "execution_count": 18,
   "id": "9da3b075",
   "metadata": {},
   "outputs": [
    {
     "data": {
      "text/plain": [
       "array([ 50000, 820000])"
      ]
     },
     "execution_count": 18,
     "metadata": {},
     "output_type": "execute_result"
    }
   ],
   "source": [
    "salary[[False, False,  True, False,  True]]"
   ]
  },
  {
   "cell_type": "code",
   "execution_count": 20,
   "id": "174a5838",
   "metadata": {},
   "outputs": [
    {
     "data": {
      "text/plain": [
       "array([ 50000, 820000])"
      ]
     },
     "execution_count": 20,
     "metadata": {},
     "output_type": "execute_result"
    }
   ],
   "source": [
    "salary[salary > 30000]"
   ]
  },
  {
   "cell_type": "code",
   "execution_count": 19,
   "id": "2abd13e5",
   "metadata": {},
   "outputs": [
    {
     "data": {
      "text/plain": [
       "array([False, False,  True, False,  True])"
      ]
     },
     "execution_count": 19,
     "metadata": {},
     "output_type": "execute_result"
    }
   ],
   "source": [
    "salary > 30000"
   ]
  },
  {
   "cell_type": "code",
   "execution_count": null,
   "id": "c35a70e0",
   "metadata": {},
   "outputs": [],
   "source": []
  },
  {
   "cell_type": "code",
   "execution_count": 21,
   "id": "9b7c6685",
   "metadata": {},
   "outputs": [
    {
     "data": {
      "text/plain": [
       "array([25000,  3500,  8500])"
      ]
     },
     "execution_count": 21,
     "metadata": {},
     "output_type": "execute_result"
    }
   ],
   "source": [
    "salary[salary < 50000]"
   ]
  },
  {
   "cell_type": "code",
   "execution_count": 24,
   "id": "d8461195",
   "metadata": {},
   "outputs": [
    {
     "data": {
      "text/plain": [
       "array([25000, 50000,  8500])"
      ]
     },
     "execution_count": 24,
     "metadata": {},
     "output_type": "execute_result"
    }
   ],
   "source": [
    "salary[(salary > 5000) & (salary < 60000)]"
   ]
  },
  {
   "cell_type": "code",
   "execution_count": 22,
   "id": "fc02d93a",
   "metadata": {},
   "outputs": [
    {
     "data": {
      "text/plain": [
       "array([ True, False,  True,  True,  True])"
      ]
     },
     "execution_count": 22,
     "metadata": {},
     "output_type": "execute_result"
    }
   ],
   "source": [
    "salary > 5000"
   ]
  },
  {
   "cell_type": "code",
   "execution_count": 23,
   "id": "b8acafee",
   "metadata": {},
   "outputs": [
    {
     "data": {
      "text/plain": [
       "array([ True,  True,  True,  True, False])"
      ]
     },
     "execution_count": 23,
     "metadata": {},
     "output_type": "execute_result"
    }
   ],
   "source": [
    "salary < 60000"
   ]
  },
  {
   "cell_type": "code",
   "execution_count": 25,
   "id": "f1263408",
   "metadata": {},
   "outputs": [
    {
     "data": {
      "text/plain": [
       "array([  3500,   8500, 820000])"
      ]
     },
     "execution_count": 25,
     "metadata": {},
     "output_type": "execute_result"
    }
   ],
   "source": [
    "salary[(salary > 60000) | (salary < 20000)]"
   ]
  },
  {
   "cell_type": "code",
   "execution_count": null,
   "id": "55025b95",
   "metadata": {},
   "outputs": [],
   "source": []
  },
  {
   "cell_type": "markdown",
   "id": "b0122545",
   "metadata": {},
   "source": [
    "### create an array that has number from 5 to 100\n",
    "### square all the values in the array\n",
    "### take square root of all the values\n",
    "### add 5000 to all the values in the array\n",
    "\n",
    "### given array ages = [10, 35, 42, 85, 65, 62, 63, 52, 88, 92, 35]\n",
    "### find total number of people whose age is greater than 80 \n",
    "### find total number of people whose age is greater than 60 and less than 80\n",
    "### find total number of people whose age is less than 20\n",
    "### find total number of people whose is exactly 35\n",
    "### find total number of people people whose age is even number \n"
   ]
  },
  {
   "cell_type": "code",
   "execution_count": 26,
   "id": "e2af131e",
   "metadata": {},
   "outputs": [],
   "source": [
    "a = np.arange(5, 101)"
   ]
  },
  {
   "cell_type": "code",
   "execution_count": 27,
   "id": "361312cf",
   "metadata": {},
   "outputs": [
    {
     "data": {
      "text/plain": [
       "array([  5,   6,   7,   8,   9,  10,  11,  12,  13,  14,  15,  16,  17,\n",
       "        18,  19,  20,  21,  22,  23,  24,  25,  26,  27,  28,  29,  30,\n",
       "        31,  32,  33,  34,  35,  36,  37,  38,  39,  40,  41,  42,  43,\n",
       "        44,  45,  46,  47,  48,  49,  50,  51,  52,  53,  54,  55,  56,\n",
       "        57,  58,  59,  60,  61,  62,  63,  64,  65,  66,  67,  68,  69,\n",
       "        70,  71,  72,  73,  74,  75,  76,  77,  78,  79,  80,  81,  82,\n",
       "        83,  84,  85,  86,  87,  88,  89,  90,  91,  92,  93,  94,  95,\n",
       "        96,  97,  98,  99, 100])"
      ]
     },
     "execution_count": 27,
     "metadata": {},
     "output_type": "execute_result"
    }
   ],
   "source": [
    "a"
   ]
  },
  {
   "cell_type": "code",
   "execution_count": 28,
   "id": "62404ead",
   "metadata": {},
   "outputs": [
    {
     "data": {
      "text/plain": [
       "25"
      ]
     },
     "execution_count": 28,
     "metadata": {},
     "output_type": "execute_result"
    }
   ],
   "source": [
    "5 ** 2"
   ]
  },
  {
   "cell_type": "code",
   "execution_count": 29,
   "id": "d2c4a1db",
   "metadata": {},
   "outputs": [
    {
     "data": {
      "text/plain": [
       "array([   25,    36,    49,    64,    81,   100,   121,   144,   169,\n",
       "         196,   225,   256,   289,   324,   361,   400,   441,   484,\n",
       "         529,   576,   625,   676,   729,   784,   841,   900,   961,\n",
       "        1024,  1089,  1156,  1225,  1296,  1369,  1444,  1521,  1600,\n",
       "        1681,  1764,  1849,  1936,  2025,  2116,  2209,  2304,  2401,\n",
       "        2500,  2601,  2704,  2809,  2916,  3025,  3136,  3249,  3364,\n",
       "        3481,  3600,  3721,  3844,  3969,  4096,  4225,  4356,  4489,\n",
       "        4624,  4761,  4900,  5041,  5184,  5329,  5476,  5625,  5776,\n",
       "        5929,  6084,  6241,  6400,  6561,  6724,  6889,  7056,  7225,\n",
       "        7396,  7569,  7744,  7921,  8100,  8281,  8464,  8649,  8836,\n",
       "        9025,  9216,  9409,  9604,  9801, 10000])"
      ]
     },
     "execution_count": 29,
     "metadata": {},
     "output_type": "execute_result"
    }
   ],
   "source": [
    "a ** 2"
   ]
  },
  {
   "cell_type": "code",
   "execution_count": 30,
   "id": "37216098",
   "metadata": {},
   "outputs": [
    {
     "data": {
      "text/plain": [
       "array([ 2.23606798,  2.44948974,  2.64575131,  2.82842712,  3.        ,\n",
       "        3.16227766,  3.31662479,  3.46410162,  3.60555128,  3.74165739,\n",
       "        3.87298335,  4.        ,  4.12310563,  4.24264069,  4.35889894,\n",
       "        4.47213595,  4.58257569,  4.69041576,  4.79583152,  4.89897949,\n",
       "        5.        ,  5.09901951,  5.19615242,  5.29150262,  5.38516481,\n",
       "        5.47722558,  5.56776436,  5.65685425,  5.74456265,  5.83095189,\n",
       "        5.91607978,  6.        ,  6.08276253,  6.164414  ,  6.244998  ,\n",
       "        6.32455532,  6.40312424,  6.4807407 ,  6.55743852,  6.63324958,\n",
       "        6.70820393,  6.78232998,  6.8556546 ,  6.92820323,  7.        ,\n",
       "        7.07106781,  7.14142843,  7.21110255,  7.28010989,  7.34846923,\n",
       "        7.41619849,  7.48331477,  7.54983444,  7.61577311,  7.68114575,\n",
       "        7.74596669,  7.81024968,  7.87400787,  7.93725393,  8.        ,\n",
       "        8.06225775,  8.1240384 ,  8.18535277,  8.24621125,  8.30662386,\n",
       "        8.36660027,  8.42614977,  8.48528137,  8.54400375,  8.60232527,\n",
       "        8.66025404,  8.71779789,  8.77496439,  8.83176087,  8.88819442,\n",
       "        8.94427191,  9.        ,  9.05538514,  9.11043358,  9.16515139,\n",
       "        9.21954446,  9.2736185 ,  9.32737905,  9.38083152,  9.43398113,\n",
       "        9.48683298,  9.53939201,  9.59166305,  9.64365076,  9.69535971,\n",
       "        9.74679434,  9.79795897,  9.8488578 ,  9.89949494,  9.94987437,\n",
       "       10.        ])"
      ]
     },
     "execution_count": 30,
     "metadata": {},
     "output_type": "execute_result"
    }
   ],
   "source": [
    "a ** 0.5"
   ]
  },
  {
   "cell_type": "code",
   "execution_count": 31,
   "id": "e1b03619",
   "metadata": {},
   "outputs": [
    {
     "data": {
      "text/plain": [
       "5.0"
      ]
     },
     "execution_count": 31,
     "metadata": {},
     "output_type": "execute_result"
    }
   ],
   "source": [
    "25 ** 0.5"
   ]
  },
  {
   "cell_type": "code",
   "execution_count": 33,
   "id": "fd3a4ec6",
   "metadata": {},
   "outputs": [],
   "source": [
    "a = a + 5000"
   ]
  },
  {
   "cell_type": "code",
   "execution_count": 34,
   "id": "a74ae914",
   "metadata": {},
   "outputs": [
    {
     "data": {
      "text/plain": [
       "array([5005, 5006, 5007, 5008, 5009, 5010, 5011, 5012, 5013, 5014, 5015,\n",
       "       5016, 5017, 5018, 5019, 5020, 5021, 5022, 5023, 5024, 5025, 5026,\n",
       "       5027, 5028, 5029, 5030, 5031, 5032, 5033, 5034, 5035, 5036, 5037,\n",
       "       5038, 5039, 5040, 5041, 5042, 5043, 5044, 5045, 5046, 5047, 5048,\n",
       "       5049, 5050, 5051, 5052, 5053, 5054, 5055, 5056, 5057, 5058, 5059,\n",
       "       5060, 5061, 5062, 5063, 5064, 5065, 5066, 5067, 5068, 5069, 5070,\n",
       "       5071, 5072, 5073, 5074, 5075, 5076, 5077, 5078, 5079, 5080, 5081,\n",
       "       5082, 5083, 5084, 5085, 5086, 5087, 5088, 5089, 5090, 5091, 5092,\n",
       "       5093, 5094, 5095, 5096, 5097, 5098, 5099, 5100])"
      ]
     },
     "execution_count": 34,
     "metadata": {},
     "output_type": "execute_result"
    }
   ],
   "source": [
    "a"
   ]
  },
  {
   "cell_type": "code",
   "execution_count": 37,
   "id": "33ea11df",
   "metadata": {},
   "outputs": [],
   "source": [
    "ages = np.array([10, 35, 42, 85, 65, 62, 63, 52, 88, 92, 35])"
   ]
  },
  {
   "cell_type": "code",
   "execution_count": 40,
   "id": "25ea76a1",
   "metadata": {},
   "outputs": [
    {
     "data": {
      "text/plain": [
       "3"
      ]
     },
     "execution_count": 40,
     "metadata": {},
     "output_type": "execute_result"
    }
   ],
   "source": [
    "len(ages[ages > 80])"
   ]
  },
  {
   "cell_type": "code",
   "execution_count": 42,
   "id": "b9a0faaa",
   "metadata": {},
   "outputs": [
    {
     "data": {
      "text/plain": [
       "3"
      ]
     },
     "execution_count": 42,
     "metadata": {},
     "output_type": "execute_result"
    }
   ],
   "source": [
    "len(ages[(ages>60) & (ages<80)])"
   ]
  },
  {
   "cell_type": "code",
   "execution_count": 43,
   "id": "53bd4411",
   "metadata": {},
   "outputs": [
    {
     "data": {
      "text/plain": [
       "1"
      ]
     },
     "execution_count": 43,
     "metadata": {},
     "output_type": "execute_result"
    }
   ],
   "source": [
    "len(ages[ages<20])"
   ]
  },
  {
   "cell_type": "code",
   "execution_count": 44,
   "id": "bd58e4d6",
   "metadata": {},
   "outputs": [
    {
     "data": {
      "text/plain": [
       "2"
      ]
     },
     "execution_count": 44,
     "metadata": {},
     "output_type": "execute_result"
    }
   ],
   "source": [
    "len(ages[ages == 35])"
   ]
  },
  {
   "cell_type": "code",
   "execution_count": 47,
   "id": "5ddc4337",
   "metadata": {},
   "outputs": [
    {
     "data": {
      "text/plain": [
       "485040"
      ]
     },
     "execution_count": 47,
     "metadata": {},
     "output_type": "execute_result"
    }
   ],
   "source": [
    "a.sum()"
   ]
  },
  {
   "cell_type": "code",
   "execution_count": 48,
   "id": "a9675ca8",
   "metadata": {},
   "outputs": [
    {
     "data": {
      "text/plain": [
       "5052.5"
      ]
     },
     "execution_count": 48,
     "metadata": {},
     "output_type": "execute_result"
    }
   ],
   "source": [
    "a.mean()"
   ]
  },
  {
   "cell_type": "code",
   "execution_count": 49,
   "id": "1ce41e04",
   "metadata": {},
   "outputs": [
    {
     "data": {
      "text/plain": [
       "27.711309363988317"
      ]
     },
     "execution_count": 49,
     "metadata": {},
     "output_type": "execute_result"
    }
   ],
   "source": [
    "a.std()"
   ]
  },
  {
   "cell_type": "code",
   "execution_count": 50,
   "id": "6a057a8d",
   "metadata": {},
   "outputs": [
    {
     "data": {
      "text/plain": [
       "767.9166666666666"
      ]
     },
     "execution_count": 50,
     "metadata": {},
     "output_type": "execute_result"
    }
   ],
   "source": [
    "a.var()"
   ]
  },
  {
   "cell_type": "code",
   "execution_count": 53,
   "id": "f2da5553",
   "metadata": {},
   "outputs": [
    {
     "data": {
      "text/plain": [
       "array([False, False, False,  True, False, False, False, False,  True,\n",
       "        True, False])"
      ]
     },
     "execution_count": 53,
     "metadata": {},
     "output_type": "execute_result"
    }
   ],
   "source": [
    "ages>80"
   ]
  },
  {
   "cell_type": "code",
   "execution_count": 54,
   "id": "86f27f50",
   "metadata": {},
   "outputs": [
    {
     "data": {
      "text/plain": [
       "3"
      ]
     },
     "execution_count": 54,
     "metadata": {},
     "output_type": "execute_result"
    }
   ],
   "source": [
    "True +True +True"
   ]
  },
  {
   "cell_type": "code",
   "execution_count": 57,
   "id": "2b6ec036",
   "metadata": {},
   "outputs": [
    {
     "data": {
      "text/plain": [
       "3"
      ]
     },
     "execution_count": 57,
     "metadata": {},
     "output_type": "execute_result"
    }
   ],
   "source": [
    "len(ages[ages>80])"
   ]
  },
  {
   "cell_type": "code",
   "execution_count": 59,
   "id": "7da9a7dd",
   "metadata": {},
   "outputs": [
    {
     "data": {
      "text/plain": [
       "3"
      ]
     },
     "execution_count": 59,
     "metadata": {},
     "output_type": "execute_result"
    }
   ],
   "source": [
    "(ages>80).sum()"
   ]
  },
  {
   "cell_type": "code",
   "execution_count": 60,
   "id": "35ce34bd",
   "metadata": {},
   "outputs": [
    {
     "data": {
      "text/plain": [
       "6"
      ]
     },
     "execution_count": 60,
     "metadata": {},
     "output_type": "execute_result"
    }
   ],
   "source": [
    "sum([1,2,3,])"
   ]
  },
  {
   "cell_type": "code",
   "execution_count": 61,
   "id": "91f3e695",
   "metadata": {},
   "outputs": [
    {
     "data": {
      "text/plain": [
       "6"
      ]
     },
     "execution_count": 61,
     "metadata": {},
     "output_type": "execute_result"
    }
   ],
   "source": [
    "np.array([1,2,3]).sum()"
   ]
  },
  {
   "cell_type": "code",
   "execution_count": 62,
   "id": "64743c0a",
   "metadata": {},
   "outputs": [
    {
     "data": {
      "text/plain": [
       "3"
      ]
     },
     "execution_count": 62,
     "metadata": {},
     "output_type": "execute_result"
    }
   ],
   "source": [
    "(ages>80).sum()"
   ]
  },
  {
   "cell_type": "code",
   "execution_count": null,
   "id": "d6f4685f",
   "metadata": {},
   "outputs": [],
   "source": []
  },
  {
   "cell_type": "code",
   "execution_count": 63,
   "id": "1fb23df0",
   "metadata": {},
   "outputs": [],
   "source": [
    "### manipulations of array"
   ]
  },
  {
   "cell_type": "code",
   "execution_count": null,
   "id": "85100658",
   "metadata": {},
   "outputs": [],
   "source": []
  }
 ],
 "metadata": {
  "kernelspec": {
   "display_name": "Python 3 (ipykernel)",
   "language": "python",
   "name": "python3"
  },
  "language_info": {
   "codemirror_mode": {
    "name": "ipython",
    "version": 3
   },
   "file_extension": ".py",
   "mimetype": "text/x-python",
   "name": "python",
   "nbconvert_exporter": "python",
   "pygments_lexer": "ipython3",
   "version": "3.11.5"
  }
 },
 "nbformat": 4,
 "nbformat_minor": 5
}
